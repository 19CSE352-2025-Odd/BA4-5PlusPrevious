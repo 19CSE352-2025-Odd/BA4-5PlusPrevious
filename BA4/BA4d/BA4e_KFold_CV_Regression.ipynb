{
 "cells": [
  {
   "cell_type": "markdown",
   "id": "42782f4a",
   "metadata": {},
   "source": [
    "# BA4e: k-Fold Cross-Validation for Regression (Bike Rentals Dataset)\n",
    "\n",
    "In this module, we apply k-Fold cross-validation to evaluate the generalization ability of a regression model.\n",
    "Unlike a single train-test split, k-fold CV provides a more reliable estimate of model performance by averaging over multiple data splits."
   ]
  },
  {
   "cell_type": "markdown",
   "id": "ccb9b9eb",
   "metadata": {},
   "source": [
    "### Step 1: Load and prepare the dataset"
   ]
  },
  {
   "cell_type": "code",
   "execution_count": 1,
   "id": "da61086d",
   "metadata": {},
   "outputs": [],
   "source": [
    "import pandas as pd\n",
    "df = pd.read_csv('bike_rentals.csv')\n",
    "X = df.drop(columns=['cnt', 'instant'])\n",
    "y = df['cnt']"
   ]
  },
  {
   "cell_type": "markdown",
   "id": "a7b6d2f8",
   "metadata": {},
   "source": [
    "### Step 2: Define linear regression model and cross-validation setup"
   ]
  },
  {
   "cell_type": "code",
   "execution_count": 2,
   "id": "7be10796",
   "metadata": {},
   "outputs": [],
   "source": [
    "from sklearn.linear_model import LinearRegression\n",
    "from sklearn.model_selection import KFold, cross_val_score\n",
    "\n",
    "model = LinearRegression()\n",
    "kfold = KFold(n_splits=5, shuffle=True, random_state=42)"
   ]
  },
  {
   "cell_type": "markdown",
   "id": "f1cadd3e",
   "metadata": {},
   "source": [
    "### Step 3: Run 5-fold cross-validation using R² as the evaluation metric"
   ]
  },
  {
   "cell_type": "code",
   "execution_count": 3,
   "id": "f0b4cf93",
   "metadata": {},
   "outputs": [
    {
     "name": "stdout",
     "output_type": "stream",
     "text": [
      "R² scores for each fold: [0.82757579 0.74597252 0.81285982 0.72086789 0.80809516]\n",
      "Average R² score: 0.7830742372597278\n"
     ]
    }
   ],
   "source": [
    "scores = cross_val_score(model, X, y, cv=kfold, scoring='r2')\n",
    "print(\"R² scores for each fold:\", scores)\n",
    "print(\"Average R² score:\", scores.mean())"
   ]
  },
  {
   "cell_type": "markdown",
   "id": "fc0dbd04",
   "metadata": {},
   "source": [
    "### Step 4: Interpretation\n",
    "\n",
    "The individual fold scores give you an idea of how much model performance varies depending on the data split.\n",
    "If scores vary widely, the model may be unstable or sensitive to data.\n",
    "If scores are consistently high, the model is likely generalizing well.\n",
    "\n",
    "The average R² score is a more robust estimate of expected real-world performance than a single train-test split."
   ]
  },
  {
   "cell_type": "code",
   "execution_count": null,
   "id": "4d176475-9060-4f5c-b691-1c3bc9c94b81",
   "metadata": {},
   "outputs": [],
   "source": [
    "### Step 5: Try these\n",
    "\n",
    "- Try changing `n_splits` to 10 or 3. How does that affect the stability of scores?\n",
    "- Use `cross_val_score(..., scoring='neg_mean_squared_error')` to evaluate with a different metric.\n",
    "- Try cross-validating with a `DecisionTreeRegressor` or `Ridge` model and compare performance.\n",
    "- Explore using `ShuffleSplit` or `RepeatedKFold` for more randomized evaluations."
   ]
  }
 ],
 "metadata": {
  "kernelspec": {
   "display_name": "Python 3 (ipykernel)",
   "language": "python",
   "name": "python3"
  },
  "language_info": {
   "codemirror_mode": {
    "name": "ipython",
    "version": 3
   },
   "file_extension": ".py",
   "mimetype": "text/x-python",
   "name": "python",
   "nbconvert_exporter": "python",
   "pygments_lexer": "ipython3",
   "version": "3.13.5"
  }
 },
 "nbformat": 4,
 "nbformat_minor": 5
}
