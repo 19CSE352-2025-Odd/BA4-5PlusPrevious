{
 "cells": [
  {
   "cell_type": "markdown",
   "id": "782c0556",
   "metadata": {},
   "source": [
    "# BA4b: Train-Test Split for Regression (Bike Rentals Dataset)\n",
    "\n",
    "**Objective:** Learn how to perform a basic train-test split using the `bike_rentals.csv` dataset and evaluate a linear regression model.\n",
    "\n",
    "This is a foundational skill in predictive modeling. We'll use the number of bike rentals (`cnt`) as our target variable."
   ]
  },
  {
   "cell_type": "markdown",
   "id": "68a672ce",
   "metadata": {},
   "source": [
    "### Step 1: Import Required Libraries\n",
    "We'll use `pandas` for data handling and `scikit-learn` for splitting and modeling."
   ]
  },
  {
   "cell_type": "code",
   "execution_count": null,
   "id": "630a5b04",
   "metadata": {},
   "outputs": [],
   "source": [
    "import pandas as pd\n",
    "from sklearn.model_selection import train_test_split\n",
    "from sklearn.linear_model import LinearRegression\n",
    "from sklearn.metrics import r2_score"
   ]
  },
  {
   "cell_type": "markdown",
   "id": "d70a9104",
   "metadata": {},
   "source": [
    "### Step 2: Load the Dataset\n",
    "We load the bike rentals dataset which contains 731 observations of daily rental counts and relevant features."
   ]
  },
  {
   "cell_type": "code",
   "execution_count": null,
   "id": "e049bd72",
   "metadata": {},
   "outputs": [],
   "source": [
    "df = pd.read_csv('bike_rentals.csv')\n",
    "df.head()"
   ]
  },
  {
   "cell_type": "markdown",
   "id": "59edf446",
   "metadata": {},
   "source": [
    "### Step 3: Define Features and Target\n",
    "\n",
    "- We drop the columns `cnt` (target) and `instant` (index-like column).\n",
    "- The rest are used as features (`X`).\n",
    "- `y` will be the total number of rentals (`cnt`)."
   ]
  },
  {
   "cell_type": "code",
   "execution_count": null,
   "id": "902521c8",
   "metadata": {},
   "outputs": [],
   "source": [
    "X = df.drop(columns=['cnt', 'instant'])\n",
    "y = df['cnt']"
   ]
  },
  {
   "cell_type": "markdown",
   "id": "97b6de2a",
   "metadata": {},
   "source": [
    "### Step 4: Split into Training and Test Sets\n",
    "\n",
    "We'll split the dataset into 80% training and 20% testing. The `random_state` is set for reproducibility."
   ]
  },
  {
   "cell_type": "code",
   "execution_count": null,
   "id": "a50838d8",
   "metadata": {},
   "outputs": [],
   "source": [
    "X_train, X_test, y_train, y_test = train_test_split(X, y, test_size=0.2, random_state=42)\n",
    "print(f'Training samples: {len(X_train)}')\n",
    "print(f'Test samples: {len(X_test)}')"
   ]
  },
  {
   "cell_type": "markdown",
   "id": "56fdf836",
   "metadata": {},
   "source": [
    "### Step 5: Train a Linear Regression Model\n",
    "\n",
    "Now we fit a `LinearRegression` model using the training data."
   ]
  },
  {
   "cell_type": "code",
   "execution_count": null,
   "id": "00b1aaaf",
   "metadata": {},
   "outputs": [],
   "source": [
    "model = LinearRegression()\n",
    "model.fit(X_train, y_train)"
   ]
  },
  {
   "cell_type": "markdown",
   "id": "c92d55b0",
   "metadata": {},
   "source": [
    "### Step 6: Predict and Evaluate the Model\n",
    "\n",
    "We make predictions on the test set and evaluate performance using R² score (coefficient of determination)."
   ]
  },
  {
   "cell_type": "code",
   "execution_count": null,
   "id": "3244397e",
   "metadata": {},
   "outputs": [],
   "source": [
    "y_pred = model.predict(X_test)\n",
    "r2 = r2_score(y_test, y_pred)\n",
    "print(f'R² Score on Test Set: {r2:.3f}')"
   ]
  },
  {
   "cell_type": "markdown",
   "id": "29b02bf2",
   "metadata": {},
   "source": [
    "### Step 7: Try these\n",
    "\n",
    "Here are some ways to extend this simple analysis:\n",
    "- Try using only a subset of features (e.g., `temp`, `hum`, `windspeed`) and compare model performance.\n",
    "- Add polynomial features to capture nonlinear relationships.\n",
    "- Use a different model (e.g., `DecisionTreeRegressor`) and compare results.\n",
    "- Explore how the model performs with different `test_size` values (e.g., 0.1, 0.3, 0.5).\n",
    "- Visualize predictions vs actuals using a scatterplot.\n",
    "\n",
    "Train-test split is simple but crucial — understanding it well prepares you for deeper validation strategies like cross-validation."
   ]
  }
 ],
 "metadata": {
  "kernelspec": {
   "display_name": "Python 3 (ipykernel)",
   "language": "python",
   "name": "python3"
  },
  "language_info": {
   "codemirror_mode": {
    "name": "ipython",
    "version": 3
   },
   "file_extension": ".py",
   "mimetype": "text/x-python",
   "name": "python",
   "nbconvert_exporter": "python",
   "pygments_lexer": "ipython3",
   "version": "3.13.5"
  }
 },
 "nbformat": 4,
 "nbformat_minor": 5
}
