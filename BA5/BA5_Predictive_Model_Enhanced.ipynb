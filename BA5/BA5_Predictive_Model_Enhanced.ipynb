{
 "cells": [
  {
   "cell_type": "markdown",
   "id": "c158e86f",
   "metadata": {},
   "source": [
    "# BA5: Predictive Modeling – Housing Price Estimation\n",
    "\n",
    "In this notebook, we will build a predictive model to estimate the **total value of homes** using data from **West Roxbury**, Boston. This is a classic case of **supervised regression modeling**.\n",
    "\n",
    "We will walk through the full data science process: from framing the problem to building and evaluating a multiple linear regression model.\n"
   ]
  },
  {
   "cell_type": "markdown",
   "id": "7234567d",
   "metadata": {},
   "source": [
    "## 1. Problem Framing\n",
    "\n",
    "Our objective is to predict the variable `TOTAL_VALUE` using other available features. One variable, `TAX`, will be excluded because it is derived from the target variable and would introduce **data leakage**.\n",
    "\n",
    "We will also handle a categorical variable `REMODEL` by converting it into dummy variables.\n"
   ]
  },
  {
   "cell_type": "markdown",
   "id": "637fbaf1",
   "metadata": {},
   "source": [
    "## 2. Load and Prepare the Data\n",
    "We will load the dataset, drop unnecessary columns, handle categorical variables, and fix any anomalies (like outliers in `FLOORS`)."
   ]
  },
  {
   "cell_type": "code",
   "execution_count": null,
   "id": "1da3005b",
   "metadata": {},
   "outputs": [],
   "source": [
    "import pandas as pd\n",
    "\n",
    "housing_df = pd.read_csv(\"/mnt/data/WestRoxbury.csv\")\n",
    "housing_df = housing_df.copy()\n",
    "\n",
    "# Drop the TAX column\n",
    "if \"TAX\" in housing_df.columns:\n",
    "    housing_df = housing_df.drop(columns=[\"TAX\"])\n",
    "\n",
    "# Convert categorical 'REMODEL' to dummy variables\n",
    "housing_df = pd.get_dummies(housing_df, columns=[\"REMODEL\"], drop_first=True)\n",
    "\n",
    "# Correct the anomalous FLOORS entry (if any)\n",
    "housing_df[\"FLOORS\"] = housing_df[\"FLOORS\"].replace(15, 1.5)\n",
    "\n",
    "housing_df.head()"
   ]
  },
  {
   "cell_type": "markdown",
   "id": "56d95adc",
   "metadata": {},
   "source": [
    "## 3. Split the Data into Training and Validation Sets\n",
    "\n",
    "We will split the dataset into a 60% training set and 40% validation set to build and evaluate our model.\n"
   ]
  },
  {
   "cell_type": "code",
   "execution_count": null,
   "id": "e9734b62",
   "metadata": {},
   "outputs": [],
   "source": [
    "from sklearn.model_selection import train_test_split\n",
    "\n",
    "exclude_cols = [\"TOTAL_VALUE\"]\n",
    "predictors = [col for col in housing_df.columns if col not in exclude_cols]\n",
    "X = housing_df[predictors]\n",
    "y = housing_df[\"TOTAL_VALUE\"]\n",
    "\n",
    "train_X, valid_X, train_y, valid_y = train_test_split(X, y, test_size=0.4, random_state=1)\n"
   ]
  },
  {
   "cell_type": "markdown",
   "id": "c5d2477f",
   "metadata": {},
   "source": [
    "## 4. Fit a Multiple Linear Regression Model\n",
    "\n",
    "We will fit the model using the **training data**.\n"
   ]
  },
  {
   "cell_type": "code",
   "execution_count": null,
   "id": "61a5f3de",
   "metadata": {},
   "outputs": [],
   "source": [
    "from sklearn.linear_model import LinearRegression\n",
    "\n",
    "model = LinearRegression()\n",
    "model.fit(train_X, train_y)"
   ]
  },
  {
   "cell_type": "markdown",
   "id": "76b8a416",
   "metadata": {},
   "source": [
    "## 5. Predict and Evaluate Residuals\n",
    "\n",
    "We compute the predicted values and residuals for both training and validation sets.\n"
   ]
  },
  {
   "cell_type": "code",
   "execution_count": null,
   "id": "13d37d5c",
   "metadata": {},
   "outputs": [],
   "source": [
    "train_pred = model.predict(train_X)\n",
    "valid_pred = model.predict(valid_X)\n",
    "\n",
    "train_results = pd.DataFrame({\n",
    "    \"Actual\": train_y,\n",
    "    \"Predicted\": train_pred,\n",
    "    \"Residual\": train_y - train_pred\n",
    "})\n",
    "\n",
    "train_results.head()"
   ]
  },
  {
   "cell_type": "markdown",
   "id": "f09479b0",
   "metadata": {},
   "source": [
    "## 6. Evaluate Model Performance with RMSE\n",
    "\n",
    "Root Mean Squared Error (RMSE) gives a good idea of prediction accuracy in the original units.\n"
   ]
  },
  {
   "cell_type": "code",
   "execution_count": null,
   "id": "defaae94",
   "metadata": {},
   "outputs": [],
   "source": [
    "from sklearn.metrics import mean_squared_error\n",
    "import numpy as np\n",
    "\n",
    "train_rmse = np.sqrt(mean_squared_error(train_y, train_pred))\n",
    "valid_rmse = np.sqrt(mean_squared_error(valid_y, valid_pred))\n",
    "\n",
    "print(f\"Train RMSE: ${train_rmse:,.2f}\")\n",
    "print(f\"Validation RMSE: ${valid_rmse:,.2f}\")\n"
   ]
  },
  {
   "cell_type": "markdown",
   "id": "a6ede757",
   "metadata": {},
   "source": [
    "## 🔍 Challenge Exercises\n",
    "\n",
    "1. Try excluding one of the predictors and see if RMSE improves.\n",
    "2. Use only 2 or 3 predictors. Does model performance degrade?\n",
    "3. Try predicting TOTAL_VALUE for a hypothetical home.\n",
    "4. Change the train/test ratio and observe the RMSE changes.\n",
    "5. (Advanced) Try using `Ridge` or `Lasso` regression instead of standard Linear Regression.\n"
   ]
  }
 ],
 "metadata": {},
 "nbformat": 4,
 "nbformat_minor": 5
}
