{
 "cells": [
  {
   "cell_type": "markdown",
   "id": "eb893ebb",
   "metadata": {},
   "source": [
    "# BA5c: Challenge Notebook – Predictive Modeling of Vehicle Fuel Efficiency\n",
    "\n",
    "In this notebook, you will work on predicting **Fuel Efficiency (FE)** using real-world data from vehicles manufactured in 2010.\n",
    "\n",
    "This is an advanced extension of previous notebooks (BA5, BA5a, BA5b). You will:\n",
    "- Prepare and explore the dataset\n",
    "- Train multiple predictive models\n",
    "- Evaluate performance using RMSE\n",
    "- Conduct model diagnostics\n",
    "- Take on challenges to explore model robustness and parsimony\n",
    "\n",
    "**Target Variable:** `FE`  \n",
    "**Dataset:** `cars2010.csv`\n"
   ]
  },
  {
   "cell_type": "markdown",
   "id": "68307e81",
   "metadata": {},
   "source": [
    "## 1. Load and Preview the Dataset"
   ]
  },
  {
   "cell_type": "code",
   "execution_count": null,
   "id": "5e4f41f0",
   "metadata": {},
   "outputs": [],
   "source": [
    "import pandas as pd\n",
    "\n",
    "cars_df = pd.read_csv(\"/mnt/data/cars2010.csv\")\n",
    "cars_df.head()"
   ]
  },
  {
   "cell_type": "markdown",
   "id": "38fb566e",
   "metadata": {},
   "source": [
    "## 2. Explore Target and Predictors"
   ]
  },
  {
   "cell_type": "code",
   "execution_count": null,
   "id": "67a65dba",
   "metadata": {},
   "outputs": [],
   "source": [
    "print(\"Shape:\", cars_df.shape)\n",
    "print(\"\\nMissing values:\")\n",
    "print(cars_df.isnull().sum())\n",
    "\n",
    "print(\"\\nTarget Variable Summary (FE):\")\n",
    "print(cars_df['FE'].describe())\n",
    "\n",
    "cars_df[['FE', 'EngDispl', 'NumCyl', 'AirAspirationMethod']].hist(figsize=(10,6))\n"
   ]
  },
  {
   "cell_type": "markdown",
   "id": "000df117",
   "metadata": {},
   "source": [
    "## 3. Data Preparation: Encoding, Feature Selection"
   ]
  },
  {
   "cell_type": "code",
   "execution_count": null,
   "id": "3be9e386",
   "metadata": {},
   "outputs": [],
   "source": [
    "from sklearn.model_selection import train_test_split\n",
    "from sklearn.preprocessing import OneHotEncoder\n",
    "from sklearn.compose import ColumnTransformer\n",
    "from sklearn.pipeline import Pipeline\n",
    "from sklearn.linear_model import LinearRegression\n",
    "from sklearn.metrics import mean_squared_error\n",
    "import numpy as np\n",
    "\n",
    "X = cars_df.drop(columns=[\"FE\"])\n",
    "y = cars_df[\"FE\"]\n",
    "\n",
    "# Separate categorical and numeric\n",
    "categorical = X.select_dtypes(include='object').columns.tolist()\n",
    "numeric = X.select_dtypes(include=['int64', 'float64']).columns.tolist()\n",
    "\n",
    "# Build a preprocessing pipeline\n",
    "preprocessor = ColumnTransformer([\n",
    "    (\"cat\", OneHotEncoder(drop='first', sparse_output=False), categorical)\n",
    "], remainder='passthrough')\n",
    "\n",
    "X_train, X_valid, y_train, y_valid = train_test_split(X, y, test_size=0.3, random_state=0)\n"
   ]
  },
  {
   "cell_type": "markdown",
   "id": "83b75829",
   "metadata": {},
   "source": [
    "## 4. Fit and Evaluate Linear Regression"
   ]
  },
  {
   "cell_type": "code",
   "execution_count": null,
   "id": "b1dbaa7c",
   "metadata": {},
   "outputs": [],
   "source": [
    "model = Pipeline([\n",
    "    (\"prep\", preprocessor),\n",
    "    (\"lr\", LinearRegression())\n",
    "])\n",
    "model.fit(X_train, y_train)\n",
    "\n",
    "y_pred = model.predict(X_valid)\n",
    "rmse = np.sqrt(mean_squared_error(y_valid, y_pred))\n",
    "print(f\"RMSE: {rmse:.2f}\")\n"
   ]
  },
  {
   "cell_type": "markdown",
   "id": "92d0d64e",
   "metadata": {},
   "source": [
    "## 🧪 5. Challenges\n",
    "\n",
    "Try the following extensions:\n",
    "\n",
    "1. Drop one of the high-cardinality categorical variables and retrain the model. Is RMSE better or worse?\n",
    "2. Use `Ridge` and `Lasso` and compare coefficients and RMSEs.\n",
    "3. Try using a **polynomial feature** (e.g., `EngDispl^2`) to capture nonlinear effects.\n",
    "4. Which predictors appear to be most influential? Use `.coef_` to analyze.\n"
   ]
  },
  {
   "cell_type": "markdown",
   "id": "1562f821",
   "metadata": {},
   "source": [
    "## ✅ Summary"
   ]
  },
  {
   "cell_type": "markdown",
   "id": "1462a768",
   "metadata": {},
   "source": [
    "- You have applied predictive modeling techniques to a new domain.\n",
    "- Explored categorical encoding and model diagnostics.\n",
    "- Compared baseline regression performance and took on custom modeling challenges.\n"
   ]
  }
 ],
 "metadata": {},
 "nbformat": 4,
 "nbformat_minor": 5
}
